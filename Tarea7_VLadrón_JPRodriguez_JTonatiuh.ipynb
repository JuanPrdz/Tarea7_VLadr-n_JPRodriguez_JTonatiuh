{
 "cells": [
  {
   "cell_type": "markdown",
   "metadata": {},
   "source": [
    "<img style=\"float: left; margin: 30px 15px 15px 15px;\" src=\"https://pngimage.net/wp-content/uploads/2018/06/logo-iteso-png-5.png\" width=\"300\" height=\"500\" /> \n",
    "    \n",
    "    \n",
    "### <font color='navy'> Simulación de procesos financieros. \n",
    "\n",
    "**Nombres:** Valeria Ladrón de Guevara Vidrio, Juan Pablo Rodriguez Alonso y Jose Tonatiuh Navarro.\n",
    "\n",
    "**Fecha:** 26 de junio del 2021.\n",
    "\n",
    "**Expediente** : if714513, .\n",
    "**Profesor:** Oscar David Jaramillo Zuluaga.\n",
    "    \n",
    "**Link Github**: https://github.com/valerialadron/Tarea7_VLadr-n_JPRodriguez_JTonatiuh\n",
    "\n",
    "# Tarea 7: Clase 13"
   ]
  },
  {
   "cell_type": "markdown",
   "metadata": {},
   "source": [
    "Aproxime el valor de la siguiente integral usando el método monte carlo crudo y método de reducción de varianza de muestreo estratíficado\n",
    "\n",
    "$$I=\\int_{0}^{1}x^2\\text{d}x=\\left.\\frac{x^3}{3}\\right|_{x=0}^{x=1}=\\frac{1}{3}\\approx 0.33333$$\n",
    "\n",
    "Pasos\n",
    "1. Cree una función que realice el método de muestreo estratíficado, recibiendo como único parámetro de entrada la cantidad de estratos y retornando las variables estratíficadas correspondientes.\n",
    "2. Reporte los resultados de la aproximación de la integral usando montecarlo crudo y muestreo estratíficado, en un Dataframe con la información mostrada en la siguiente imagen:\n",
    "<img src=\"captura7.png\">"
   ]
  },
  {
   "cell_type": "markdown",
   "metadata": {},
   "source": [
    "**Solución Valeria**"
   ]
  },
  {
   "cell_type": "code",
   "execution_count": 1,
   "metadata": {},
   "outputs": [],
   "source": [
    "import numpy as np\n",
    "import scipy.stats as st\n",
    "import pandas as pd\n",
    "import matplotlib.pyplot as plt\n",
    "from functools import reduce"
   ]
  },
  {
   "cell_type": "code",
   "execution_count": 2,
   "metadata": {},
   "outputs": [],
   "source": [
    "def montecarlo(f:'Función a integrar',\n",
    "                   a:'Límite inferior de la integral',\n",
    "                   b:'Límite superior de la integral',\n",
    "                   U:'Muestra de números U~[a,b]'):\n",
    "    return (b-a)/len(U)*np.sum(f(U))"
   ]
  },
  {
   "cell_type": "code",
   "execution_count": 3,
   "metadata": {},
   "outputs": [],
   "source": [
    "def estrat(a, b, N):\n",
    "    U2 = np.random.uniform(a, b, N)\n",
    "    i = np.arange(0, N)\n",
    "    var = (U2 + i) / N\n",
    "    return var"
   ]
  },
  {
   "cell_type": "code",
   "execution_count": 4,
   "metadata": {},
   "outputs": [
    {
     "data": {
      "text/html": [
       "<div>\n",
       "<style scoped>\n",
       "    .dataframe tbody tr th:only-of-type {\n",
       "        vertical-align: middle;\n",
       "    }\n",
       "\n",
       "    .dataframe tbody tr th {\n",
       "        vertical-align: top;\n",
       "    }\n",
       "\n",
       "    .dataframe thead th {\n",
       "        text-align: right;\n",
       "    }\n",
       "</style>\n",
       "<table border=\"1\" class=\"dataframe\">\n",
       "  <thead>\n",
       "    <tr style=\"text-align: right;\">\n",
       "      <th></th>\n",
       "      <th>Montecarlo crudo</th>\n",
       "      <th>Error_relativo1%</th>\n",
       "      <th>Muestreo estratificado</th>\n",
       "      <th>Error_relativo2%</th>\n",
       "    </tr>\n",
       "    <tr>\n",
       "      <th>Cantidad_terminos</th>\n",
       "      <th></th>\n",
       "      <th></th>\n",
       "      <th></th>\n",
       "      <th></th>\n",
       "    </tr>\n",
       "  </thead>\n",
       "  <tbody>\n",
       "    <tr>\n",
       "      <th>10</th>\n",
       "      <td>0.240803</td>\n",
       "      <td>27.759249</td>\n",
       "      <td>0.328444</td>\n",
       "      <td>1.466898e+00</td>\n",
       "    </tr>\n",
       "    <tr>\n",
       "      <th>100</th>\n",
       "      <td>0.343981</td>\n",
       "      <td>3.194187</td>\n",
       "      <td>0.333448</td>\n",
       "      <td>3.428932e-02</td>\n",
       "    </tr>\n",
       "    <tr>\n",
       "      <th>1000</th>\n",
       "      <td>0.312779</td>\n",
       "      <td>6.166158</td>\n",
       "      <td>0.333329</td>\n",
       "      <td>1.338657e-03</td>\n",
       "    </tr>\n",
       "    <tr>\n",
       "      <th>10000</th>\n",
       "      <td>0.341785</td>\n",
       "      <td>2.535395</td>\n",
       "      <td>0.333333</td>\n",
       "      <td>8.846230e-06</td>\n",
       "    </tr>\n",
       "    <tr>\n",
       "      <th>100000</th>\n",
       "      <td>0.333543</td>\n",
       "      <td>0.062781</td>\n",
       "      <td>0.333333</td>\n",
       "      <td>1.756646e-06</td>\n",
       "    </tr>\n",
       "    <tr>\n",
       "      <th>1000000</th>\n",
       "      <td>0.333815</td>\n",
       "      <td>0.144599</td>\n",
       "      <td>0.333333</td>\n",
       "      <td>1.775906e-07</td>\n",
       "    </tr>\n",
       "    <tr>\n",
       "      <th>10000000</th>\n",
       "      <td>0.333357</td>\n",
       "      <td>0.007066</td>\n",
       "      <td>0.333333</td>\n",
       "      <td>1.592626e-09</td>\n",
       "    </tr>\n",
       "  </tbody>\n",
       "</table>\n",
       "</div>"
      ],
      "text/plain": [
       "                   Montecarlo crudo  Error_relativo1%  Muestreo estratificado  \\\n",
       "Cantidad_terminos                                                               \n",
       "10                         0.240803         27.759249                0.328444   \n",
       "100                        0.343981          3.194187                0.333448   \n",
       "1000                       0.312779          6.166158                0.333329   \n",
       "10000                      0.341785          2.535395                0.333333   \n",
       "100000                     0.333543          0.062781                0.333333   \n",
       "1000000                    0.333815          0.144599                0.333333   \n",
       "10000000                   0.333357          0.007066                0.333333   \n",
       "\n",
       "                   Error_relativo2%  \n",
       "Cantidad_terminos                    \n",
       "10                     1.466898e+00  \n",
       "100                    3.428932e-02  \n",
       "1000                   1.338657e-03  \n",
       "10000                  8.846230e-06  \n",
       "100000                 1.756646e-06  \n",
       "1000000                1.775906e-07  \n",
       "10000000               1.592626e-09  "
      ]
     },
     "execution_count": 4,
     "metadata": {},
     "output_type": "execute_result"
    }
   ],
   "source": [
    "I = 1/3\n",
    "a = 0; b = 1\n",
    "\n",
    "# Cantidad de términos, en escala logarítmica\n",
    "N = np.logspace(1,7,7,dtype=int)\n",
    "\n",
    "#tabla \n",
    "df = pd.DataFrame(index=N,columns=['Montecarlo crudo', 'Error_relativo1%', 'Muestreo estratificado', 'Error_relativo2%'], dtype='float')\n",
    "df.index.name = \"Cantidad_terminos\"\n",
    "\n",
    "# Números aleatorios dependiente de la cantidad de términos N\n",
    "ui_mon = list(map(lambda N:np.random.uniform(a,b,N),N)) #Int Montecarlo \n",
    "ui_es = list(map(lambda N: estrat(a,b,N),N)) #Muestreo Estratificado\n",
    "\n",
    "# Calculamos la aproximación por montecarlo dependiendo de la cantidad de\n",
    "# términos que hayamos creado con ui\n",
    "I_m_mon = list(map(lambda Y:montecarlo(lambda x:x**2,a,b,Y),ui_mon)) #Montecarlo\n",
    "I_m_es = list(map(lambda Y:montecarlo(lambda x:x**2,a,b,Y),ui_es)) #Estratificado\n",
    "\n",
    "# Mostramos los resultados en la tabla previamente creada\n",
    "df.loc[N,\"Montecarlo crudo\"] = I_m_mon\n",
    "df.loc[N,\"Error_relativo1%\"] = np.abs(df.loc[N,\"Montecarlo crudo\"]-I)*100/I\n",
    "\n",
    "df.loc[N,\"Muestreo estratificado\"] = I_m_es\n",
    "df.loc[N,\"Error_relativo2%\"] = np.abs(df.loc[N,\"Muestreo estratificado\"]-I)*100/I\n",
    "df"
   ]
  },
  {
   "cell_type": "markdown",
   "metadata": {},
   "source": [
    "Código de solución estudiante 2"
   ]
  },
  {
   "cell_type": "code",
   "execution_count": null,
   "metadata": {},
   "outputs": [],
   "source": [
    "# Código de solución estudiante 2\n",
    ".\n",
    ".\n",
    ".\n",
    ".\n"
   ]
  },
  {
   "cell_type": "code",
   "execution_count": null,
   "metadata": {},
   "outputs": [],
   "source": []
  },
  {
   "cell_type": "code",
   "execution_count": null,
   "metadata": {},
   "outputs": [],
   "source": []
  },
  {
   "cell_type": "markdown",
   "metadata": {},
   "source": [
    "estudiante 3"
   ]
  },
  {
   "cell_type": "code",
   "execution_count": null,
   "metadata": {},
   "outputs": [],
   "source": []
  },
  {
   "cell_type": "code",
   "execution_count": null,
   "metadata": {},
   "outputs": [],
   "source": []
  },
  {
   "cell_type": "code",
   "execution_count": null,
   "metadata": {},
   "outputs": [],
   "source": []
  }
 ],
 "metadata": {
  "kernelspec": {
   "display_name": "Python 3",
   "language": "python",
   "name": "python3"
  },
  "language_info": {
   "codemirror_mode": {
    "name": "ipython",
    "version": 3
   },
   "file_extension": ".py",
   "mimetype": "text/x-python",
   "name": "python",
   "nbconvert_exporter": "python",
   "pygments_lexer": "ipython3",
   "version": "3.7.1"
  }
 },
 "nbformat": 4,
 "nbformat_minor": 2
}
